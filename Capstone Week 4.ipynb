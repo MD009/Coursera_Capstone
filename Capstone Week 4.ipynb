{
 "cells": [
  {
   "cell_type": "markdown",
   "metadata": {},
   "source": [
    "## 1. Introduction/Background"
   ]
  },
  {
   "cell_type": "markdown",
   "metadata": {},
   "source": [
    "Opening a brand new restaurant can be quiet daunting task because of so many factors involved including the budget, location, different cuisines to serve and many others. According to the XYZ news (2019) there is an enormous rise seen in spending on restaurants by general population in California, USA. Also for entrepreneurs this means an opportunity to venture into the world of restaurant business but provided they have a right business plan. Having a right business plan is important because at the end of the day not all eateries or any business for that matter end up making profit. So equipping yourself with a plan that will make a strong foundation for your business cannot be emphasized enough. Making a decision about location, accessibility, affordability, types of cuisines to offer are just a few of the important choices that need to be considered in your plan.\n",
    "Strategy here is look into the most important factors that contribute to the profitability of a restaurant. These include visibility, crime rates, parking size, surrounding business and competitor analysis. This data analysis will be looking at different data that is available such as the crime rate of different locations that will help an aspiring restaurant owner make a decision about the best location to open a restaurant in San Francisco, California. San Francisco is the 13th most populous city in the whole of United States. It is home to ethnically one of the most diverse population in US. It is best known for tourist attraction and business innovation. Walking around in the city it may be evident that the city already has huge number of restaurants. That is when gathering data, in this case from public data set and analysing it becomes all the more useful."
   ]
  },
  {
   "cell_type": "markdown",
   "metadata": {},
   "source": [
    "## 1.1 Problem"
   ]
  },
  {
   "cell_type": "markdown",
   "metadata": {},
   "source": [
    "This data analysis aims in finding the best possible location in the city of San Fransisco to benefit any future restaurant owner or investors"
   ]
  },
  {
   "cell_type": "markdown",
   "metadata": {},
   "source": [
    "## 1.2 Target Audience"
   ]
  },
  {
   "cell_type": "markdown",
   "metadata": {},
   "source": [
    "Decision about location in a business can have a huge impact on the costs and revenues. Investors and future business owners are often faced with market research questions such as which location would be best suited for the customers to allow them to have a fruitful business. This data analysis will provide answers to that specific question in city of San Francisco. The city is constantly attracting new businesses and food business is one of the top contenders. Due to it being the most populous cities it is important to have the knowledge about distribution of different restaurants and the types of cuisines they offer, to have a better understanding of where to open a restaurant that will be profitable."
   ]
  },
  {
   "cell_type": "markdown",
   "metadata": {},
   "source": [
    "## 2. Data Acquisition and Cleaning"
   ]
  },
  {
   "cell_type": "markdown",
   "metadata": {},
   "source": [
    "To get the data for the crime rate for the city of San Francisco, police department incident report from 2018 onwards was used from the following website: https://data.sfgov.org/Public-Safety/Police-Department-Incident-Reports-2018-to-Present/wg3w-h783  \n",
    "\n",
    "To get the data for geographical coordinates for various neighborhoods in San Fransisco, following website was used: https://data.sfgov.org/Geographic-Locations-and-Boundaries/Realtor-Neighborhoods/5gzd-g9ns/data\n",
    "Data for analysis of surrounding business and restaurants was extracted from FourSquare API: https://developer.foursquare.com/docs/api/venues/search  \n",
    "\n",
    "Geographical coordinates for showcasing the locations of the restaurants on the map was extracted from Geocoding API: https://developer.mapquest.com/documentation/geocoding-api/"
   ]
  },
  {
   "cell_type": "markdown",
   "metadata": {},
   "source": [
    "## 2.2 Data Cleaning and Feature Selection"
   ]
  },
  {
   "cell_type": "markdown",
   "metadata": {},
   "source": [
    "Data for the crime rate was downloaded as csv file and was then added in the notebook as pandas data frame by using ‘ find and add data’ in the IBM cloud.\n",
    "\n",
    "There were numerous columns in the dataframe that were not required for our analysis purpose for our case, so they were dropped. This way the dataframe was reduced to only 5 columns containing the incident category and police district with their latitude and longitude values, which was then analyzed.\n",
    "\n",
    "There was a lot of missing data in the dataframe which was then removed since a major chunk of data had missing values it did not make sense to fill the missing values with means of the given data. I only used data that had location information (geographical coordinates) in both the crime rate data as well as the location data provided by the San Fransico association of Realtors so that the combination of both the data gives us the meaningful information about the neighbourhoods of the city"
   ]
  },
  {
   "cell_type": "markdown",
   "metadata": {},
   "source": [
    "## 3. Data Analysis"
   ]
  },
  {
   "cell_type": "markdown",
   "metadata": {},
   "source": [
    "After dropping the features the DataFrame containing the incident category along with corresponding police districts was analyzed which showed Larceny theft was the major contributor to the crime (about 75000 cases), and second most common category is assault followed by burglary (I ignored other miscellaneous and malicious mischief as the frequency of these are far less than Larceny). So these are the most common crimes committed in the city.\n",
    "\n",
    "Screen%20Shot%202019-08-17%20at%2012.40.26%20PM.png\n",
    "\n",
    "\n",
    "For the distribution of these crimes by districts Matplot lib was used for visualization of graph plotted between the police district and total number of crimes and Central district came out at the top compared to the other districts. And overall combined Central, Mission, Southern, Northern and Tenderloin contributes to the majority of the incidents in the city as per the report. Next step was to put the each of the incident report into a geological unit, which was achieved by using the neighborhoods data defined by San Francisco Association of Realtors. The data was converted into DataFrame (df_data_5). The incident report DataFrame and neighborhood DataFrame were merged to have the geospatial data on each of the neighborhoods. After having the crime reports on the neighborhoods, focus was on studying these neighborhoods using the Foursquare API. From the API DataFrame including the venue, venue category along with geographical coordinates was constructed. To cluster the neighborhood K-means algorithm was used.\n",
    "\n",
    "\n",
    "\n",
    "\n",
    "For the distribution of these crimes by districts Matplot lib was used for visualization of graph plotted between the police district and total number of crimes and Central district came out at the top compared to the other districts. And overall combined Central, Mission, Southern, Northern and Tenderloin contributes to the majority of the incidents in the city as per the report. Next step was to put the each of the incident report into a geological unit, which was achieved by using the neighborhoods data defined by San Francisco Association of Realtors. The data was converted into DataFrame (df_data_5). The incident report DataFrame and neighborhood DataFrame were merged to have the geospatial data on each of the neighborhoods. After having the crime reports on the neighborhoods, focus was on studying these neighborhoods using the Foursquare API. From the API DataFrame including the venue, venue category along with geographical coordinates was constructed. To cluster the neighborhood K-means algorithm was used."
   ]
  },
  {
   "cell_type": "markdown",
   "metadata": {},
   "source": [
    "## 4. Results and Discussion"
   ]
  },
  {
   "cell_type": "markdown",
   "metadata": {},
   "source": [
    "After analyzing the clusters it became evident that the most common venues in the neighborhoods are the restaurants, which were consistent with our first impression about San Francisco that indeed the city has many number of different restaurants already. But by checking the crime rate data we can say that opening a restaurant in North Beach might be a good idea due to low crime rate data and also looking at the map, it tells us that it is close to waterfront which means better foot and car traffic, which in turns mean better visibility. Now the purpose of this analysis was only to propose a good location for a future restaurant based on the crime rate of a location, but there are other plethora of factors that also should be considered before zero-in on the exact location."
   ]
  },
  {
   "cell_type": "code",
   "execution_count": null,
   "metadata": {},
   "outputs": [],
   "source": []
  }
 ],
 "metadata": {
  "kernelspec": {
   "display_name": "Python 3",
   "language": "python",
   "name": "python3"
  },
  "language_info": {
   "codemirror_mode": {
    "name": "ipython",
    "version": 3
   },
   "file_extension": ".py",
   "mimetype": "text/x-python",
   "name": "python",
   "nbconvert_exporter": "python",
   "pygments_lexer": "ipython3",
   "version": "3.6.4"
  }
 },
 "nbformat": 4,
 "nbformat_minor": 2
}
